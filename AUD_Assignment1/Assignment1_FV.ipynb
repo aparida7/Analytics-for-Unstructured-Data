{
 "cells": [
  {
   "cell_type": "markdown",
   "metadata": {},
   "source": [
    "# Competitive Analysis of the Entry-Level Luxury Car Market in the USA\n",
    "## Prepared for: JD Power and Associates"
   ]
  },
  {
   "cell_type": "markdown",
   "metadata": {},
   "source": [
    "# Table of Contents\n",
    "\n",
    "1. [Introduction](#Introduction)\n",
    "   - [Objective](#Objective)\n",
    "   - [Scope](#Scope)\n",
    "   - [Note](#Note)\n",
    "2. [Data Collection](#Data-Collection)\n",
    "3. [Analysis and Findings](#Analysis-and-Findings)\n",
    "   - [Task A: Zipf’s Law Verification](#Task-A:-Zipf's-Law-Verification)\n",
    "     - [Visual Inspection](#Visual-Inspection)\n",
    "     - [Econometric Analysis](#Econometric-Analysis)\n",
    "   - [Task B: Top Brand Analysis](#Task-B:-Top-Brand-Analysis)\n",
    "     - [Identifying the Top 10 Brands](#Identifying-the-Top-10-Brands)\n",
    "     - [Frequency Table of Top 10 Brands](#Frequency-Table-of-Top-10-Brands)\n",
    "   - [Task C: Lift Values Analysis](#Task-C:-Lift-Values-Analysis)\n",
    "     - [Calculation of Lift Values](#Calculation-of-Lift-Values)\n",
    "     - [Lift Values Table](#Lift-Values-Table)\n",
    "   - [Task D: Multi-Dimensional Scaling (MDS) Map](#Task-D:-Multi-Dimensional-Scaling-(MDS)-Map)\n",
    "   - [Task E: Insights from Tasks C and D](#Task-E:-Insights-from-Tasks-C-and-D)\n",
    "     - [Key Findings](#Key-Findings)\n",
    "     - [Business Suggestions](#Business-Suggestions)\n",
    "   - [Task F: Attributes Analysis](#Task-F:-Attributes-Analysis)\n",
    "     - [Identification of Top 5 Attributes](#Identification-of-Top-5-Attributes)\n",
    "     - [Brand-Attribute Association](#Brand-Attribute-Association)\n",
    "   - [Task G: Advice Based on Task F](#Task-G:-Advice-Based-on-Task-F)\n",
    "   - [Task H: Aspirational Brand Analysis](#Task-H:-Aspirational-Brand-Analysis)\n",
    "     - [Approach](#Approach)\n",
    "     - [Findings](#Findings:)\n",
    "     - [Business Implications](#Business-Implications:)"
   ]
  },
  {
   "cell_type": "markdown",
   "metadata": {},
   "source": [
    "## Introduction"
   ]
  },
  {
   "cell_type": "markdown",
   "metadata": {},
   "source": [
    "In a rapidly evolving automotive market, understanding consumer preferences and the perceptual landscape of different car brands can offer a competitive edge to businesses. Leveraging the wealth of data available in online forums, where enthusiasts and consumers alike share their candid opinions and experiences, can be a goldmine of insights for companies. Recognizing this potential, JD Power and Associates has commissioned this study to delve deep into the consumer conversations circulating in the entry-level luxury car market in the USA."
   ]
  },
  {
   "cell_type": "markdown",
   "metadata": {},
   "source": [
    "### Objective"
   ]
  },
  {
   "cell_type": "markdown",
   "metadata": {},
   "source": [
    "The primary objective of this assignment is to analyze discussions from one of the most prominent car forums, Edmunds.com, to glean insights into the perceptions and preferences revolving around various brands in the entry-level luxury car segment. Through a meticulous analysis of social media conversations, we aim to offer advice and insights that can help JD Power and Associates steer their strategies effectively."
   ]
  },
  {
   "cell_type": "markdown",
   "metadata": {},
   "source": [
    "### Scope"
   ]
  },
  {
   "cell_type": "markdown",
   "metadata": {},
   "source": [
    "In the pursuit of achieving this objective, our approach will encompass the following tasks:\n",
    "\n",
    "- **Data Acquisition**: Developing a Python scraper to fetch around 5000 posts from the Entry Level Luxury forum on Edmunds.com, capturing the natural and unfiltered opinions of consumers.\n",
    "\n",
    "- **Data Analysis**: Employing various analytics techniques to analyze the data, which includes verifying Zipf's law, identifying top brands through frequency counts, and computing lift ratios for associations between the top brands.\n",
    "\n",
    "- **Visualization**: Creating a multi-dimensional scaling (MDS) map to visually represent the brand associations.\n",
    "\n",
    "- **Attribute Analysis**: Identifying the most frequently mentioned attributes or features of cars in the discussions and understanding their strong associations with the top five brands.\n",
    "\n",
    "- **Aspiration Analysis**: Determining the most aspirational brand in the dataset, i.e., the brand that people most desire to own or purchase."
   ]
  },
  {
   "cell_type": "markdown",
   "metadata": {},
   "source": [
    "### Note"
   ]
  },
  {
   "cell_type": "markdown",
   "metadata": {},
   "source": [
    "While delving into the analysis, we operate under the assumption that all sentiments in the scraped messages are positive, and we will not be conducting sentiment analysis for this assignment."
   ]
  },
  {
   "cell_type": "code",
   "execution_count": 4,
   "metadata": {},
   "outputs": [
    {
     "name": "stderr",
     "output_type": "stream",
     "text": [
      "[nltk_data] Downloading package stopwords to /Users/sam/nltk_data...\n",
      "[nltk_data]   Package stopwords is already up-to-date!\n",
      "[nltk_data] Downloading package punkt to /Users/sam/nltk_data...\n",
      "[nltk_data]   Package punkt is already up-to-date!\n"
     ]
    },
    {
     "data": {
      "text/plain": [
       "True"
      ]
     },
     "execution_count": 4,
     "metadata": {},
     "output_type": "execute_result"
    }
   ],
   "source": [
    "# Imports\n",
    "import pandas as pd\n",
    "import numpy as np\n",
    "import requests\n",
    "import matplotlib.pyplot as plt\n",
    "import sklearn.datasets as dt\n",
    "import seaborn as sns\n",
    "import statsmodels.api as sm\n",
    "\n",
    "from bs4 import BeautifulSoup\n",
    "from collections import Counter\n",
    "from tqdm import tqdm\n",
    "from nltk.corpus import stopwords\n",
    "from nltk.tokenize import word_tokenize\n",
    "from statistics import mean\n",
    "\n",
    "from sklearn.metrics.pairwise import manhattan_distances, euclidean_distances\n",
    "from matplotlib.offsetbox import OffsetImage, AnnotationBbox\n",
    "\n",
    "import csv\n",
    "import time\n",
    "import os\n",
    "import re\n",
    "import nltk\n",
    "nltk.download('stopwords')\n",
    "nltk.download('punkt')"
   ]
  },
  {
   "cell_type": "markdown",
   "metadata": {},
   "source": [
    "## Data Collection"
   ]
  },
  {
   "cell_type": "markdown",
   "metadata": {},
   "source": [
    "We scraped the first 5000 comments from the 'entry-level-luxury-performance-sedans' discussion on Edmunds using BeautifulSoup."
   ]
  },
  {
   "cell_type": "code",
   "execution_count": 2,
   "metadata": {},
   "outputs": [],
   "source": [
    "BASE_URL = \"https://forums.edmunds.com/discussion/2864/general/x/entry-level-luxury-performance-sedans\"\n",
    "\n",
    "HEADERS = {\n",
    "    \"User-Agent\": \"Mozilla/5.0 (Windows NT 10.0; Win64; x64) AppleWebKit/537.36 (KHTML, like Gecko) Chrome/92.0.4515.107 Safari/537.36\"\n",
    "}\n",
    "\n",
    "def get_messages_from_page(url):\n",
    "    response = requests.get(url, headers=HEADERS)\n",
    "    soup = BeautifulSoup(response.content, \"html.parser\")\n",
    "\n",
    "    messages = soup.select(\".Message.userContent\")\n",
    "    dates = [msg.find_previous(\"time\")[\"datetime\"] for msg in messages]\n",
    "\n",
    "    filtered_messages = []\n",
    "    for date, msg in zip(dates, messages):\n",
    "        message_text = msg.text.strip()\n",
    "        if message_text:\n",
    "            filtered_messages.append({\"date\": date, \"message\": message_text})\n",
    "\n",
    "    return filtered_messages\n",
    "\n",
    "def main():\n",
    "    all_messages = []\n",
    "    page_number = 1\n",
    "    TARGET_POSTS = 5000  # Number of posts we want to scrape\n",
    "    \n",
    "    while len(all_messages) < TARGET_POSTS:\n",
    "        # Construct the URL based on the page number\n",
    "        if page_number == 1:\n",
    "            current_url = BASE_URL\n",
    "        else:\n",
    "            current_url = f\"{BASE_URL}/p{page_number}\"\n",
    "        \n",
    "        current_messages = get_messages_from_page(current_url)\n",
    "        \n",
    "        # If no messages are found on the current page, break the loop\n",
    "        if not current_messages:\n",
    "            break\n",
    "        \n",
    "        # Exclude the first post only on the first page\n",
    "        if page_number == 1:\n",
    "            current_messages = current_messages[1:]\n",
    "\n",
    "        all_messages.extend(current_messages)\n",
    "        \n",
    "        # Introduce a 2-second pause before fetching the next page\n",
    "        # time.sleep(2)\n",
    "        \n",
    "        page_number += 1\n",
    "\n",
    "    # If we gather more than 5000 messages due to the last page, trim the list\n",
    "    all_messages = all_messages[:TARGET_POSTS]\n",
    "\n",
    "    with open(\"/Users/sam/Desktop/UT_MSBA/Fall/MIS 284N_UDA/Assignment_1/edmunds_messages.csv\", \"w\", newline=\"\", encoding=\"utf-8\") as file:\n",
    "        writer = csv.DictWriter(file, fieldnames=[\"date\", \"message\"])\n",
    "        writer.writeheader()\n",
    "        for message in all_messages:\n",
    "            writer.writerow(message)\n",
    "\n",
    "if __name__ == \"__main__\":\n",
    "    main()\n"
   ]
  },
  {
   "cell_type": "code",
   "execution_count": 5,
   "metadata": {},
   "outputs": [
    {
     "data": {
      "text/html": [
       "<div>\n",
       "<style scoped>\n",
       "    .dataframe tbody tr th:only-of-type {\n",
       "        vertical-align: middle;\n",
       "    }\n",
       "\n",
       "    .dataframe tbody tr th {\n",
       "        vertical-align: top;\n",
       "    }\n",
       "\n",
       "    .dataframe thead th {\n",
       "        text-align: right;\n",
       "    }\n",
       "</style>\n",
       "<table border=\"1\" class=\"dataframe\">\n",
       "  <thead>\n",
       "    <tr style=\"text-align: right;\">\n",
       "      <th></th>\n",
       "      <th>date</th>\n",
       "      <th>message</th>\n",
       "    </tr>\n",
       "  </thead>\n",
       "  <tbody>\n",
       "    <tr>\n",
       "      <th>0</th>\n",
       "      <td>2002-03-25T05:54:02+00:00</td>\n",
       "      <td>I personally think that with a few tweaks the ...</td>\n",
       "    </tr>\n",
       "    <tr>\n",
       "      <th>1</th>\n",
       "      <td>2002-03-25T07:06:29+00:00</td>\n",
       "      <td>I am debating a new purchase and these two are...</td>\n",
       "    </tr>\n",
       "    <tr>\n",
       "      <th>2</th>\n",
       "      <td>2002-03-25T17:02:27+00:00</td>\n",
       "      <td>Great handling, RWD, excellent engine and the ...</td>\n",
       "    </tr>\n",
       "    <tr>\n",
       "      <th>3</th>\n",
       "      <td>2002-03-25T23:04:37+00:00</td>\n",
       "      <td>And no manual tranny. That may not matter to y...</td>\n",
       "    </tr>\n",
       "    <tr>\n",
       "      <th>4</th>\n",
       "      <td>2002-03-26T00:44:13+00:00</td>\n",
       "      <td>One beauty of BMW 3 Series is that there are s...</td>\n",
       "    </tr>\n",
       "  </tbody>\n",
       "</table>\n",
       "</div>"
      ],
      "text/plain": [
       "                        date  \\\n",
       "0  2002-03-25T05:54:02+00:00   \n",
       "1  2002-03-25T07:06:29+00:00   \n",
       "2  2002-03-25T17:02:27+00:00   \n",
       "3  2002-03-25T23:04:37+00:00   \n",
       "4  2002-03-26T00:44:13+00:00   \n",
       "\n",
       "                                             message  \n",
       "0  I personally think that with a few tweaks the ...  \n",
       "1  I am debating a new purchase and these two are...  \n",
       "2  Great handling, RWD, excellent engine and the ...  \n",
       "3  And no manual tranny. That may not matter to y...  \n",
       "4  One beauty of BMW 3 Series is that there are s...  "
      ]
     },
     "execution_count": 5,
     "metadata": {},
     "output_type": "execute_result"
    }
   ],
   "source": [
    "# Load the dataset into a DataFrame\n",
    "file_path = \"/Users/sam/Desktop/UT_MSBA/Fall/MIS 284N_UDA/Assignment_1/edmunds_messages.csv\"\n",
    "comments = pd.read_csv(file_path)\n",
    "# Display the first few rows of the DataFrame to understand its structure\n",
    "comments.head()"
   ]
  },
  {
   "cell_type": "code",
   "execution_count": 6,
   "metadata": {},
   "outputs": [
    {
     "name": "stdout",
     "output_type": "stream",
     "text": [
      "<class 'pandas.core.frame.DataFrame'>\n",
      "RangeIndex: 5000 entries, 0 to 4999\n",
      "Data columns (total 2 columns):\n",
      " #   Column   Non-Null Count  Dtype \n",
      "---  ------   --------------  ----- \n",
      " 0   date     5000 non-null   object\n",
      " 1   message  5000 non-null   object\n",
      "dtypes: object(2)\n",
      "memory usage: 78.2+ KB\n"
     ]
    }
   ],
   "source": [
    "comments.info()"
   ]
  },
  {
   "cell_type": "code",
   "execution_count": 7,
   "metadata": {},
   "outputs": [
    {
     "data": {
      "text/html": [
       "<div>\n",
       "<style scoped>\n",
       "    .dataframe tbody tr th:only-of-type {\n",
       "        vertical-align: middle;\n",
       "    }\n",
       "\n",
       "    .dataframe tbody tr th {\n",
       "        vertical-align: top;\n",
       "    }\n",
       "\n",
       "    .dataframe thead th {\n",
       "        text-align: right;\n",
       "    }\n",
       "</style>\n",
       "<table border=\"1\" class=\"dataframe\">\n",
       "  <thead>\n",
       "    <tr style=\"text-align: right;\">\n",
       "      <th></th>\n",
       "      <th>date</th>\n",
       "      <th>message</th>\n",
       "      <th>tokens</th>\n",
       "    </tr>\n",
       "  </thead>\n",
       "  <tbody>\n",
       "    <tr>\n",
       "      <th>0</th>\n",
       "      <td>2002-03-25T05:54:02+00:00</td>\n",
       "      <td>I personally think that with a few tweaks the ...</td>\n",
       "      <td>[I, personally, think, that, with, a, few, twe...</td>\n",
       "    </tr>\n",
       "    <tr>\n",
       "      <th>1</th>\n",
       "      <td>2002-03-25T07:06:29+00:00</td>\n",
       "      <td>I am debating a new purchase and these two are...</td>\n",
       "      <td>[I, am, debating, a, new, purchase, and, these...</td>\n",
       "    </tr>\n",
       "    <tr>\n",
       "      <th>2</th>\n",
       "      <td>2002-03-25T17:02:27+00:00</td>\n",
       "      <td>Great handling, RWD, excellent engine and the ...</td>\n",
       "      <td>[Great, handling, ,, RWD, ,, excellent, engine...</td>\n",
       "    </tr>\n",
       "    <tr>\n",
       "      <th>3</th>\n",
       "      <td>2002-03-25T23:04:37+00:00</td>\n",
       "      <td>And no manual tranny. That may not matter to y...</td>\n",
       "      <td>[And, no, manual, tranny, ., That, may, not, m...</td>\n",
       "    </tr>\n",
       "    <tr>\n",
       "      <th>4</th>\n",
       "      <td>2002-03-26T00:44:13+00:00</td>\n",
       "      <td>One beauty of BMW 3 Series is that there are s...</td>\n",
       "      <td>[One, beauty, of, BMW, 3, Series, is, that, th...</td>\n",
       "    </tr>\n",
       "  </tbody>\n",
       "</table>\n",
       "</div>"
      ],
      "text/plain": [
       "                        date  \\\n",
       "0  2002-03-25T05:54:02+00:00   \n",
       "1  2002-03-25T07:06:29+00:00   \n",
       "2  2002-03-25T17:02:27+00:00   \n",
       "3  2002-03-25T23:04:37+00:00   \n",
       "4  2002-03-26T00:44:13+00:00   \n",
       "\n",
       "                                             message  \\\n",
       "0  I personally think that with a few tweaks the ...   \n",
       "1  I am debating a new purchase and these two are...   \n",
       "2  Great handling, RWD, excellent engine and the ...   \n",
       "3  And no manual tranny. That may not matter to y...   \n",
       "4  One beauty of BMW 3 Series is that there are s...   \n",
       "\n",
       "                                              tokens  \n",
       "0  [I, personally, think, that, with, a, few, twe...  \n",
       "1  [I, am, debating, a, new, purchase, and, these...  \n",
       "2  [Great, handling, ,, RWD, ,, excellent, engine...  \n",
       "3  [And, no, manual, tranny, ., That, may, not, m...  \n",
       "4  [One, beauty, of, BMW, 3, Series, is, that, th...  "
      ]
     },
     "execution_count": 7,
     "metadata": {},
     "output_type": "execute_result"
    }
   ],
   "source": [
    "#Tokenize each message\n",
    "def tokenize_message(message):\n",
    "    # Tokenize the message using NLTK's word_tokenize\n",
    "    tokens = word_tokenize(message)\n",
    "    return tokens\n",
    "\n",
    "comments['tokens'] = comments['message'].map(tokenize_message)\n",
    "comments.head()"
   ]
  },
  {
   "cell_type": "code",
   "execution_count": 8,
   "metadata": {},
   "outputs": [],
   "source": [
    "#creating list of all the words with their frequency\n",
    "word_list=[]\n",
    "def f(token_list):\n",
    "    for i in token_list:\n",
    "        word_list.append(i.lower())\n",
    "\n",
    "comments['tokens'].map(f)\n",
    "\n",
    "#word frequency\n",
    "pd.Series(word_list).value_counts()\n",
    "\n",
    "#exporting the word frequency to csv\n",
    "pd.Series(word_list).value_counts().to_csv('word_frequency.csv')"
   ]
  },
  {
   "cell_type": "code",
   "execution_count": 9,
   "metadata": {},
   "outputs": [],
   "source": [
    "words=pd.read_csv('word_frequency.csv')\n",
    "words.columns = ['word','count']\n",
    "\n",
    "#rank the words based on frequency\n",
    "words['Rank']=words['count'].rank(ascending=False,method='min')"
   ]
  },
  {
   "cell_type": "code",
   "execution_count": 10,
   "metadata": {},
   "outputs": [
    {
     "data": {
      "text/html": [
       "<div>\n",
       "<style scoped>\n",
       "    .dataframe tbody tr th:only-of-type {\n",
       "        vertical-align: middle;\n",
       "    }\n",
       "\n",
       "    .dataframe tbody tr th {\n",
       "        vertical-align: top;\n",
       "    }\n",
       "\n",
       "    .dataframe thead th {\n",
       "        text-align: right;\n",
       "    }\n",
       "</style>\n",
       "<table border=\"1\" class=\"dataframe\">\n",
       "  <thead>\n",
       "    <tr style=\"text-align: right;\">\n",
       "      <th></th>\n",
       "      <th>word</th>\n",
       "      <th>count</th>\n",
       "      <th>Rank</th>\n",
       "    </tr>\n",
       "  </thead>\n",
       "  <tbody>\n",
       "    <tr>\n",
       "      <th>0</th>\n",
       "      <td>the</td>\n",
       "      <td>26550</td>\n",
       "      <td>1.0</td>\n",
       "    </tr>\n",
       "    <tr>\n",
       "      <th>1</th>\n",
       "      <td>.</td>\n",
       "      <td>22065</td>\n",
       "      <td>2.0</td>\n",
       "    </tr>\n",
       "    <tr>\n",
       "      <th>2</th>\n",
       "      <td>,</td>\n",
       "      <td>19536</td>\n",
       "      <td>3.0</td>\n",
       "    </tr>\n",
       "    <tr>\n",
       "      <th>3</th>\n",
       "      <td>a</td>\n",
       "      <td>12094</td>\n",
       "      <td>4.0</td>\n",
       "    </tr>\n",
       "    <tr>\n",
       "      <th>4</th>\n",
       "      <td>i</td>\n",
       "      <td>12041</td>\n",
       "      <td>5.0</td>\n",
       "    </tr>\n",
       "  </tbody>\n",
       "</table>\n",
       "</div>"
      ],
      "text/plain": [
       "  word  count  Rank\n",
       "0  the  26550   1.0\n",
       "1    .  22065   2.0\n",
       "2    ,  19536   3.0\n",
       "3    a  12094   4.0\n",
       "4    i  12041   5.0"
      ]
     },
     "execution_count": 10,
     "metadata": {},
     "output_type": "execute_result"
    }
   ],
   "source": [
    "df = words[:100].copy()\n",
    "df.head()"
   ]
  },
  {
   "cell_type": "markdown",
   "metadata": {},
   "source": [
    "## Analysis and Findings"
   ]
  },
  {
   "cell_type": "markdown",
   "metadata": {},
   "source": [
    "### Task A: Zipf’s Law Verification"
   ]
  },
  {
   "cell_type": "markdown",
   "metadata": {},
   "source": [
    "In this task, we set out to investigate whether the scraped comments data adheres to Zipf's law. Our examination involved a two-pronged approach: a visual inspection through log-log plots and an econometric analysis involving the computation and analysis of a derived parameter, $theta$. In the end, we fit into linear regression to test if the slope is close to -1."
   ]
  },
  {
   "cell_type": "code",
   "execution_count": 11,
   "metadata": {},
   "outputs": [],
   "source": [
    "# Extract ranks and frequencies\n",
    "ranks = df['Rank'].values\n",
    "frequencies = df['count'].values\n",
    "# Define parameters for the Zipf's canonical line\n",
    "C = frequencies[-1]*100 # Set C as the frequency of the most common word\n",
    "# Generate expected frequencies based on the Zipf's canonical line\n",
    "expected_frequencies = [C / rank for rank in ranks]"
   ]
  },
  {
   "cell_type": "markdown",
   "metadata": {},
   "source": [
    "#### Visual Inspection"
   ]
  },
  {
   "cell_type": "code",
   "execution_count": 12,
   "metadata": {},
   "outputs": [
    {
     "data": {
      "image/png": "[encoded data removed]",
      "text/plain": [
       "<Figure size 1000x600 with 1 Axes>"
      ]
     },
     "metadata": {},
     "output_type": "display_data"
    }
   ],
   "source": [
    "# Plot the results on a log-log scale\n",
    "plt.figure(figsize=(10, 6))\n",
    "plt.loglog(ranks, frequencies, marker='*', label='Actual Data')\n",
    "plt.loglog(ranks, expected_frequencies, linestyle='--', color='red', label=\"Zipf's Law Line\")\n",
    "plt.xlabel('Rank')\n",
    "plt.ylabel('Frequency')\n",
    "plt.title(\"Zipf's Law\")\n",
    "plt.grid(True)\n",
    "plt.legend()\n",
    "plt.show()"
   ]
  },
  {
   "cell_type": "markdown",
   "metadata": {},
   "source": [
    "#### Econometric Analysis"
   ]
  },
  {
   "cell_type": "code",
   "execution_count": 13,
   "metadata": {},
   "outputs": [
    {
     "data": {
      "image/png": "[encoded data removed]",
      "text/plain": [
       "<Figure size 640x480 with 1 Axes>"
      ]
     },
     "metadata": {},
     "output_type": "display_data"
    }
   ],
   "source": [
    "#Proving Zipf's law \n",
    "#lnr = theta * ln(xr/n*xn)\n",
    "#theta = ln(xr/n*xn)/lnr\n",
    "\n",
    "f = list(df['count'].values)\n",
    "r = np.arange(1, len(f) + 1)\n",
    "xn = min(f)\n",
    "n = len(f)\n",
    "\n",
    "#test if theta = -1\n",
    "theta_list = []\n",
    "for xr, r in enumerate(frequencies):\n",
    "    if r != 1:\n",
    "        theta_list.append(np.log((xr+1)/(n*xn))/np.log(r))\n",
    "        \n",
    "# Display the first few thetas and calculate the mean theta\n",
    "mean_theta = np.mean(theta_list)\n",
    "median_theta = np.median(theta_list)\n",
    "\n",
    "# Calculate the standard deviation of theta values and the percentage of theta values within one standard deviation of the mean\n",
    "theta_std = np.std(theta_list)\n",
    "up_range = mean_theta + theta_std\n",
    "low_range = mean_theta - theta_std\n",
    "\n",
    "within_one_std = np.where((np.array(theta_list) <= up_range) & (np.array(theta_list) >= low_range))\n",
    "percentage_within_one_std = (len(within_one_std[0]) / len(theta_list)) * 100\n",
    "\n",
    "# Plot a histogram of the theta values\n",
    "plt.hist(theta_list, bins=20, edgecolor='black', alpha=0.5)\n",
    "plt.title('Distribution of Theta Values')\n",
    "plt.xlabel('Theta')\n",
    "plt.ylabel('Frequency')\n",
    "plt.grid(axis='y')\n",
    "plt.show()\n"
   ]
  },
  {
   "cell_type": "code",
   "execution_count": 14,
   "metadata": {},
   "outputs": [
    {
     "name": "stdout",
     "output_type": "stream",
     "text": [
      "Mean of θ values: -0.9964301738386133\n",
      "Median of θ values: -0.9947532168865159\n",
      "Standard deviation of θ values: 0.016088779591537088\n",
      "Percentage of θ values within one standard deviation of the mean: 83.00%\n"
     ]
    }
   ],
   "source": [
    "print(f\"Mean of θ values: {mean_theta}\")\n",
    "print(f\"Median of θ values: {median_theta}\")\n",
    "print(f\"Standard deviation of θ values: {theta_std}\")\n",
    "print(f\"Percentage of θ values within one standard deviation of the mean: {percentage_within_one_std:.2f}%\")"
   ]
  },
  {
   "cell_type": "markdown",
   "metadata": {},
   "source": [
    "Mean θ value is closed to the theoretical value of -1 predicted by Zipf's law, a substantial 83% of θ values lie within one standard deviation of the mean. Moreover, the median is close to -1, showing a significant adherence to the law. In conclusion, while not 100% perfectly aligning with Zipf's law, the dataset demonstrates a notable tendency towards the distribution anticipated by the law, indicating prevalent natural linguistic patterns in the discussions analyzed."
   ]
  },
  {
   "cell_type": "code",
   "execution_count": 15,
   "metadata": {},
   "outputs": [
    {
     "name": "stdout",
     "output_type": "stream",
     "text": [
      "                            OLS Regression Results                            \n",
      "==============================================================================\n",
      "Dep. Variable:                      y   R-squared:                       0.984\n",
      "Model:                            OLS   Adj. R-squared:                  0.984\n",
      "Method:                 Least Squares   F-statistic:                     5971.\n",
      "Date:                Tue, 12 Sep 2023   Prob (F-statistic):           1.27e-89\n",
      "Time:                        22:33:14   Log-Likelihood:                 83.105\n",
      "No. Observations:                 100   AIC:                            -162.2\n",
      "Df Residuals:                      98   BIC:                            -157.0\n",
      "Df Model:                           1                                         \n",
      "Covariance Type:            nonrobust                                         \n",
      "==============================================================================\n",
      "                 coef    std err          t      P>|t|      [0.025      0.975]\n",
      "------------------------------------------------------------------------------\n",
      "const         10.7950      0.043    249.438      0.000      10.709      10.881\n",
      "x1            -0.8912      0.012    -77.274      0.000      -0.914      -0.868\n",
      "==============================================================================\n",
      "Omnibus:                       62.453   Durbin-Watson:                   0.391\n",
      "Prob(Omnibus):                  0.000   Jarque-Bera (JB):              391.629\n",
      "Skew:                          -1.908   Prob(JB):                     9.10e-86\n",
      "Kurtosis:                      11.912   Cond. No.                         16.3\n",
      "==============================================================================\n",
      "\n",
      "Notes:\n",
      "[1] Standard Errors assume that the covariance matrix of the errors is correctly specified.\n"
     ]
    },
    {
     "data": {
      "image/png": "[encoded data removed]",
      "text/plain": [
       "<Figure size 640x480 with 1 Axes>"
      ]
     },
     "metadata": {},
     "output_type": "display_data"
    }
   ],
   "source": [
    "# Transform data to log scale\n",
    "log_frequencies = np.log(frequencies)\n",
    "log_ranks = np.log(ranks)\n",
    "\n",
    "# Add a constant to get an intercept\n",
    "log_ranks_sm = sm.add_constant(log_ranks)\n",
    "\n",
    "# Create a model\n",
    "model = sm.OLS(log_frequencies, log_ranks_sm)\n",
    "\n",
    "# Fit the model\n",
    "results = model.fit()\n",
    "\n",
    "# Print out the statistics\n",
    "print(results.summary())\n",
    "\n",
    "# Plot the data along with the fitted line\n",
    "plt.scatter(log_ranks, log_frequencies, color='blue')\n",
    "plt.plot(log_ranks, results.fittedvalues, color='red')\n",
    "plt.xlabel('Log of Ranks')\n",
    "plt.ylabel('Log of Frequencies')\n",
    "plt.title('Zipf\\'s Law Linear Regression')\n",
    "plt.grid(True)\n",
    "plt.show()"
   ]
  },
  {
   "cell_type": "code",
   "execution_count": 16,
   "metadata": {},
   "outputs": [
    {
     "name": "stdout",
     "output_type": "stream",
     "text": [
      "Slope (beta): -0.891189926692276\n",
      "Intercept (alpha): 10.795032278468412\n"
     ]
    }
   ],
   "source": [
    "# Get the slope (beta) and intercept (alpha)\n",
    "beta = results.params[1]  # The slope (beta)\n",
    "alpha = results.params[0]  # The intercept (alpha)\n",
    "\n",
    "# Print the coefficient and intercept\n",
    "print(f'Slope (beta): {beta}')\n",
    "print(f'Intercept (alpha): {alpha}')"
   ]
  },
  {
   "cell_type": "markdown",
   "metadata": {},
   "source": [
    "### Task B: Top Brand Analysis"
   ]
  },
  {
   "cell_type": "markdown",
   "metadata": {},
   "source": [
    "#### Identifying the Top 10 Brands\n",
    "- Write a script to count the frequencies of words (stopwords should NOT be counted)\n",
    "- Replace frequently occurring car models with brands \n",
    "- Count brands only once per message, even if it is repeated "
   ]
  },
  {
   "cell_type": "code",
   "execution_count": 17,
   "metadata": {},
   "outputs": [],
   "source": [
    "# Load the list of car models and brands\n",
    "brand_model_mapping = pd.read_csv('/Users/sam/Desktop/UT_MSBA/Fall/MIS 284N_UDA/Assignment_1/zoe/car_models_and_brands.csv')\n",
    "model_to_brand = dict(zip(brand_model_mapping['Model'], brand_model_mapping['Brand']))\n",
    "\n",
    "stop_words = set(stopwords.words('english'))\n",
    "\n",
    "def preprocess_text(text):\n",
    "    \"\"\"Clean and preprocess the text.\"\"\"\n",
    "    if not isinstance(text, str):\n",
    "        return []\n",
    "    \n",
    "    words = text.lower().split()\n",
    "    filtered_words = [word for word in words if word not in stop_words]\n",
    "    \n",
    "    return filtered_words\n",
    "\n",
    "def replace_model_with_brand(words):\n",
    "    \"\"\"Replace car models with brand names.\"\"\"\n",
    "    return [model_to_brand.get(word, word) for word in words]\n",
    "\n",
    "def get_unique_brands(words):\n",
    "    \"\"\"Get unique brand names from the list of words.\"\"\"\n",
    "    brands = set(model_to_brand.values())\n",
    "    unique_brands = set(words) & brands\n",
    "    \n",
    "    return list(unique_brands)\n",
    "\n",
    "# Applying the functions\n",
    "comments['without_sw'] = comments['message'].apply(preprocess_text)\n",
    "comments['brand_replaced_list'] = comments['without_sw'].apply(replace_model_with_brand)\n",
    "comments['brand_list'] = comments['brand_replaced_list'].apply(get_unique_brands)"
   ]
  },
  {
   "cell_type": "markdown",
   "metadata": {},
   "source": [
    "#### Frequency Table of Top 10 Brands\n",
    "Based on the frequency, we chose top 10 brands as follow: bmw, acura,lexus, honda, audi, infiniti, nissan, toyota, subaru, mercedes"
   ]
  },
  {
   "cell_type": "code",
   "execution_count": 18,
   "metadata": {},
   "outputs": [
    {
     "data": {
      "text/html": [
       "<div>\n",
       "<style scoped>\n",
       "    .dataframe tbody tr th:only-of-type {\n",
       "        vertical-align: middle;\n",
       "    }\n",
       "\n",
       "    .dataframe tbody tr th {\n",
       "        vertical-align: top;\n",
       "    }\n",
       "\n",
       "    .dataframe thead th {\n",
       "        text-align: right;\n",
       "    }\n",
       "</style>\n",
       "<table border=\"1\" class=\"dataframe\">\n",
       "  <thead>\n",
       "    <tr style=\"text-align: right;\">\n",
       "      <th></th>\n",
       "      <th>Brand</th>\n",
       "      <th>Count</th>\n",
       "    </tr>\n",
       "  </thead>\n",
       "  <tbody>\n",
       "    <tr>\n",
       "      <th>0</th>\n",
       "      <td>bmw</td>\n",
       "      <td>1153</td>\n",
       "    </tr>\n",
       "    <tr>\n",
       "      <th>1</th>\n",
       "      <td>acura</td>\n",
       "      <td>457</td>\n",
       "    </tr>\n",
       "    <tr>\n",
       "      <th>2</th>\n",
       "      <td>lexus</td>\n",
       "      <td>336</td>\n",
       "    </tr>\n",
       "    <tr>\n",
       "      <th>3</th>\n",
       "      <td>honda</td>\n",
       "      <td>327</td>\n",
       "    </tr>\n",
       "    <tr>\n",
       "      <th>4</th>\n",
       "      <td>audi</td>\n",
       "      <td>318</td>\n",
       "    </tr>\n",
       "    <tr>\n",
       "      <th>5</th>\n",
       "      <td>infiniti</td>\n",
       "      <td>311</td>\n",
       "    </tr>\n",
       "    <tr>\n",
       "      <th>6</th>\n",
       "      <td>nissan</td>\n",
       "      <td>219</td>\n",
       "    </tr>\n",
       "    <tr>\n",
       "      <th>7</th>\n",
       "      <td>toyota</td>\n",
       "      <td>206</td>\n",
       "    </tr>\n",
       "    <tr>\n",
       "      <th>8</th>\n",
       "      <td>subaru</td>\n",
       "      <td>182</td>\n",
       "    </tr>\n",
       "    <tr>\n",
       "      <th>9</th>\n",
       "      <td>mercedes</td>\n",
       "      <td>166</td>\n",
       "    </tr>\n",
       "  </tbody>\n",
       "</table>\n",
       "</div>"
      ],
      "text/plain": [
       "      Brand  Count\n",
       "0       bmw   1153\n",
       "1     acura    457\n",
       "2     lexus    336\n",
       "3     honda    327\n",
       "4      audi    318\n",
       "5  infiniti    311\n",
       "6    nissan    219\n",
       "7    toyota    206\n",
       "8    subaru    182\n",
       "9  mercedes    166"
      ]
     },
     "execution_count": 18,
     "metadata": {},
     "output_type": "execute_result"
    }
   ],
   "source": [
    "all_brands = [brand for sublist in comments['brand_list'] for brand in sublist]\n",
    "brand_counts = Counter(all_brands)\n",
    "top_10 = pd.DataFrame(brand_counts.most_common(10))\n",
    "top_10.columns = ['Brand','Count']\n",
    "top_10"
   ]
  },
  {
   "cell_type": "markdown",
   "metadata": {},
   "source": [
    "### Task C: Lift Values Analysis"
   ]
  },
  {
   "cell_type": "markdown",
   "metadata": {},
   "source": [
    "#### Calculation of Lift Values\n",
    "- Be sure not to count a mention more than once per post, even if it is mentioned multiple times in the post\n",
    "- Ensure that a message is not counted in the lift calculations if the mentions of two brands are separated by more than, say, 5 or 7 words. "
   ]
  },
  {
   "cell_type": "code",
   "execution_count": 25,
   "metadata": {},
   "outputs": [],
   "source": [
    "from itertools import combinations\n",
    "import numpy as np\n",
    "\n",
    "# Get unique brand pairs\n",
    "brands = top_10['Brand'].tolist()\n",
    "brand_pairs = list(combinations(brands, 2))\n",
    "\n",
    "brand_pair_counts = {}\n",
    "\n",
    "# Get the counts of each pair occurring in the same message within the specified distance\n",
    "for brand1, brand2 in brand_pairs:\n",
    "    for _, row in comments.iterrows():\n",
    "        words = row['brand_replaced_list']\n",
    "        \n",
    "        indices_brand1 = [i for i, word in enumerate(words) if word == brand1]\n",
    "        indices_brand2 = [i for i, word in enumerate(words) if word == brand2]\n",
    "        \n",
    "        if indices_brand1 and indices_brand2:\n",
    "            # with distance of 5-7, we have small co-occurances\n",
    "            if any(abs(i - j) <= 15 for i in indices_brand1 for j in indices_brand2): \n",
    "                brand_pair_counts[(brand1, brand2)] = brand_pair_counts.get((brand1, brand2), 0) + 1\n",
    "\n",
    "# Create a matrix to store lift values\n",
    "num_brands = len(top_10)\n",
    "lift_matrix = np.zeros((num_brands, num_brands))\n",
    "\n",
    "# Create a mapping of brand names to their indices in the matrix\n",
    "brand_index_mapping = {brand: index for index, brand in enumerate(top_10['Brand'])}\n",
    "\n",
    "# Get total number of messages\n",
    "total_messages = len(comments)\n",
    "\n",
    "# Calculate lift values and populate the matrix\n",
    "for (brand1, brand2), count in brand_pair_counts.items():\n",
    "    index1 = brand_index_mapping[brand1]\n",
    "    index2 = brand_index_mapping[brand2]\n",
    "    \n",
    "    brand1_count = top_10[top_10['Brand'] == brand1]['Count'].values[0]\n",
    "    brand2_count = top_10[top_10['Brand'] == brand2]['Count'].values[0]\n",
    "    \n",
    "    lift = total_messages * count / (brand1_count * brand2_count)\n",
    "    lift_matrix[index1, index2] = lift\n",
    "    lift_matrix[index2, index1] = lift  \n",
    "\n",
    "# Create a DataFrame from the lift matrix\n",
    "lift_df = pd.DataFrame(lift_matrix, columns=top_10['Brand'], index=top_10['Brand'])"
   ]
  },
  {
   "cell_type": "markdown",
   "metadata": {},
   "source": [
    "#### Lift Values Table"
   ]
  },
  {
   "cell_type": "code",
   "execution_count": 26,
   "metadata": {},
   "outputs": [
    {
     "data": {
      "text/html": [
       "<div>\n",
       "<style scoped>\n",
       "    .dataframe tbody tr th:only-of-type {\n",
       "        vertical-align: middle;\n",
       "    }\n",
       "\n",
       "    .dataframe tbody tr th {\n",
       "        vertical-align: top;\n",
       "    }\n",
       "\n",
       "    .dataframe thead th {\n",
       "        text-align: right;\n",
       "    }\n",
       "</style>\n",
       "<table border=\"1\" class=\"dataframe\">\n",
       "  <thead>\n",
       "    <tr style=\"text-align: right;\">\n",
       "      <th>Brand</th>\n",
       "      <th>bmw</th>\n",
       "      <th>acura</th>\n",
       "      <th>lexus</th>\n",
       "      <th>honda</th>\n",
       "      <th>audi</th>\n",
       "      <th>infiniti</th>\n",
       "      <th>nissan</th>\n",
       "      <th>toyota</th>\n",
       "      <th>subaru</th>\n",
       "      <th>mercedes</th>\n",
       "    </tr>\n",
       "    <tr>\n",
       "      <th>Brand</th>\n",
       "      <th></th>\n",
       "      <th></th>\n",
       "      <th></th>\n",
       "      <th></th>\n",
       "      <th></th>\n",
       "      <th></th>\n",
       "      <th></th>\n",
       "      <th></th>\n",
       "      <th></th>\n",
       "      <th></th>\n",
       "    </tr>\n",
       "  </thead>\n",
       "  <tbody>\n",
       "    <tr>\n",
       "      <th>bmw</th>\n",
       "      <td></td>\n",
       "      <td>0.882485</td>\n",
       "      <td>1.226098</td>\n",
       "      <td>0.503937</td>\n",
       "      <td>1.172768</td>\n",
       "      <td>1.352546</td>\n",
       "      <td>0.396029</td>\n",
       "      <td>0.589429</td>\n",
       "      <td>0.643329</td>\n",
       "      <td>1.227808</td>\n",
       "    </tr>\n",
       "    <tr>\n",
       "      <th>acura</th>\n",
       "      <td></td>\n",
       "      <td></td>\n",
       "      <td>1.790924</td>\n",
       "      <td>1.639465</td>\n",
       "      <td>1.273</td>\n",
       "      <td>2.040429</td>\n",
       "      <td>0.799337</td>\n",
       "      <td>0.531113</td>\n",
       "      <td>0.601149</td>\n",
       "      <td>0.527273</td>\n",
       "    </tr>\n",
       "    <tr>\n",
       "      <th>lexus</th>\n",
       "      <td></td>\n",
       "      <td></td>\n",
       "      <td></td>\n",
       "      <td>0.54609</td>\n",
       "      <td>1.263477</td>\n",
       "      <td>2.201041</td>\n",
       "      <td>0.543596</td>\n",
       "      <td>2.311604</td>\n",
       "      <td>0.735871</td>\n",
       "      <td>1.703242</td>\n",
       "    </tr>\n",
       "    <tr>\n",
       "      <th>honda</th>\n",
       "      <td></td>\n",
       "      <td></td>\n",
       "      <td></td>\n",
       "      <td></td>\n",
       "      <td>0.432751</td>\n",
       "      <td>0.540822</td>\n",
       "      <td>2.304051</td>\n",
       "      <td>3.19171</td>\n",
       "      <td>0.588097</td>\n",
       "      <td>0.460558</td>\n",
       "    </tr>\n",
       "    <tr>\n",
       "      <th>audi</th>\n",
       "      <td></td>\n",
       "      <td></td>\n",
       "      <td></td>\n",
       "      <td></td>\n",
       "      <td></td>\n",
       "      <td>1.516714</td>\n",
       "      <td>0.646162</td>\n",
       "      <td>0.152653</td>\n",
       "      <td>0.777524</td>\n",
       "      <td>2.557399</td>\n",
       "    </tr>\n",
       "    <tr>\n",
       "      <th>infiniti</th>\n",
       "      <td></td>\n",
       "      <td></td>\n",
       "      <td></td>\n",
       "      <td></td>\n",
       "      <td></td>\n",
       "      <td></td>\n",
       "      <td>1.68847</td>\n",
       "      <td>0.156089</td>\n",
       "      <td>0.883361</td>\n",
       "      <td>1.162205</td>\n",
       "    </tr>\n",
       "    <tr>\n",
       "      <th>nissan</th>\n",
       "      <td></td>\n",
       "      <td></td>\n",
       "      <td></td>\n",
       "      <td></td>\n",
       "      <td></td>\n",
       "      <td></td>\n",
       "      <td></td>\n",
       "      <td>2.881589</td>\n",
       "      <td>0.752672</td>\n",
       "      <td>0.412609</td>\n",
       "    </tr>\n",
       "    <tr>\n",
       "      <th>toyota</th>\n",
       "      <td></td>\n",
       "      <td></td>\n",
       "      <td></td>\n",
       "      <td></td>\n",
       "      <td></td>\n",
       "      <td></td>\n",
       "      <td></td>\n",
       "      <td></td>\n",
       "      <td>0.400085</td>\n",
       "      <td>0.438648</td>\n",
       "    </tr>\n",
       "    <tr>\n",
       "      <th>subaru</th>\n",
       "      <td></td>\n",
       "      <td></td>\n",
       "      <td></td>\n",
       "      <td></td>\n",
       "      <td></td>\n",
       "      <td></td>\n",
       "      <td></td>\n",
       "      <td></td>\n",
       "      <td></td>\n",
       "      <td>0.330994</td>\n",
       "    </tr>\n",
       "    <tr>\n",
       "      <th>mercedes</th>\n",
       "      <td></td>\n",
       "      <td></td>\n",
       "      <td></td>\n",
       "      <td></td>\n",
       "      <td></td>\n",
       "      <td></td>\n",
       "      <td></td>\n",
       "      <td></td>\n",
       "      <td></td>\n",
       "      <td></td>\n",
       "    </tr>\n",
       "  </tbody>\n",
       "</table>\n",
       "</div>"
      ],
      "text/plain": [
       "Brand    bmw     acura     lexus     honda      audi  infiniti    nissan  \\\n",
       "Brand                                                                      \n",
       "bmw           0.882485  1.226098  0.503937  1.172768  1.352546  0.396029   \n",
       "acura                   1.790924  1.639465     1.273  2.040429  0.799337   \n",
       "lexus                              0.54609  1.263477  2.201041  0.543596   \n",
       "honda                                       0.432751  0.540822  2.304051   \n",
       "audi                                                  1.516714  0.646162   \n",
       "infiniti                                                         1.68847   \n",
       "nissan                                                                     \n",
       "toyota                                                                     \n",
       "subaru                                                                     \n",
       "mercedes                                                                   \n",
       "\n",
       "Brand       toyota    subaru  mercedes  \n",
       "Brand                                   \n",
       "bmw       0.589429  0.643329  1.227808  \n",
       "acura     0.531113  0.601149  0.527273  \n",
       "lexus     2.311604  0.735871  1.703242  \n",
       "honda      3.19171  0.588097  0.460558  \n",
       "audi      0.152653  0.777524  2.557399  \n",
       "infiniti  0.156089  0.883361  1.162205  \n",
       "nissan    2.881589  0.752672  0.412609  \n",
       "toyota              0.400085  0.438648  \n",
       "subaru                        0.330994  \n",
       "mercedes                                "
      ]
     },
     "execution_count": 26,
     "metadata": {},
     "output_type": "execute_result"
    }
   ],
   "source": [
    "# Print the lift matrix\n",
    "mask = np.triu(np.ones(lift_df.shape), k=0)\n",
    "brand_lifts = lift_df.where(mask == 1, \"\")\n",
    "mask = np.triu(np.ones(lift_df.shape), k=1)\n",
    "brand_lifts = lift_df.where(mask == 1, \"\")\n",
    "brand_lifts"
   ]
  },
  {
   "cell_type": "markdown",
   "metadata": {},
   "source": [
    "### Task D: Multi-Dimensional Scaling (MDS) Map"
   ]
  },
  {
   "cell_type": "markdown",
   "metadata": {},
   "source": [
    "We manually set the highest lift value smaller and lowest lift value larger, but without changing their initial ranking."
   ]
  },
  {
   "cell_type": "code",
   "execution_count": 21,
   "metadata": {},
   "outputs": [],
   "source": [
    "lift_df['toyota']['honda'] = 2.9001\n",
    "lift_df['honda']['toyota'] = 2.9001\n",
    "lift_df['mercedes']['subaru'] = 0.3950\n",
    "lift_df['subaru']['mercedes'] = 0.3950"
   ]
  },
  {
   "cell_type": "code",
   "execution_count": 22,
   "metadata": {},
   "outputs": [
    {
     "data": {
      "text/html": [
       "<div>\n",
       "<style scoped>\n",
       "    .dataframe tbody tr th:only-of-type {\n",
       "        vertical-align: middle;\n",
       "    }\n",
       "\n",
       "    .dataframe tbody tr th {\n",
       "        vertical-align: top;\n",
       "    }\n",
       "\n",
       "    .dataframe thead th {\n",
       "        text-align: right;\n",
       "    }\n",
       "</style>\n",
       "<table border=\"1\" class=\"dataframe\">\n",
       "  <thead>\n",
       "    <tr style=\"text-align: right;\">\n",
       "      <th>Brand</th>\n",
       "      <th>bmw</th>\n",
       "      <th>acura</th>\n",
       "      <th>lexus</th>\n",
       "      <th>honda</th>\n",
       "      <th>audi</th>\n",
       "      <th>infiniti</th>\n",
       "      <th>nissan</th>\n",
       "      <th>toyota</th>\n",
       "      <th>subaru</th>\n",
       "      <th>mercedes</th>\n",
       "    </tr>\n",
       "    <tr>\n",
       "      <th>Brand</th>\n",
       "      <th></th>\n",
       "      <th></th>\n",
       "      <th></th>\n",
       "      <th></th>\n",
       "      <th></th>\n",
       "      <th></th>\n",
       "      <th></th>\n",
       "      <th></th>\n",
       "      <th></th>\n",
       "      <th></th>\n",
       "    </tr>\n",
       "  </thead>\n",
       "  <tbody>\n",
       "    <tr>\n",
       "      <th>bmw</th>\n",
       "      <td>0.000000</td>\n",
       "      <td>1.133163</td>\n",
       "      <td>0.815596</td>\n",
       "      <td>1.984374</td>\n",
       "      <td>0.852684</td>\n",
       "      <td>0.739346</td>\n",
       "      <td>2.525070</td>\n",
       "      <td>1.696557</td>\n",
       "      <td>1.554415</td>\n",
       "      <td>0.814460</td>\n",
       "    </tr>\n",
       "    <tr>\n",
       "      <th>acura</th>\n",
       "      <td>1.133163</td>\n",
       "      <td>0.000000</td>\n",
       "      <td>0.558371</td>\n",
       "      <td>0.609955</td>\n",
       "      <td>0.785546</td>\n",
       "      <td>0.490093</td>\n",
       "      <td>1.251038</td>\n",
       "      <td>1.882840</td>\n",
       "      <td>1.663480</td>\n",
       "      <td>1.896550</td>\n",
       "    </tr>\n",
       "    <tr>\n",
       "      <th>lexus</th>\n",
       "      <td>0.815596</td>\n",
       "      <td>0.558371</td>\n",
       "      <td>0.000000</td>\n",
       "      <td>1.831200</td>\n",
       "      <td>0.791467</td>\n",
       "      <td>0.454330</td>\n",
       "      <td>1.839600</td>\n",
       "      <td>0.432600</td>\n",
       "      <td>1.358933</td>\n",
       "      <td>0.587116</td>\n",
       "    </tr>\n",
       "    <tr>\n",
       "      <th>honda</th>\n",
       "      <td>1.984374</td>\n",
       "      <td>0.609955</td>\n",
       "      <td>1.831200</td>\n",
       "      <td>0.000000</td>\n",
       "      <td>2.310800</td>\n",
       "      <td>1.849036</td>\n",
       "      <td>0.434018</td>\n",
       "      <td>0.344816</td>\n",
       "      <td>1.700400</td>\n",
       "      <td>2.171280</td>\n",
       "    </tr>\n",
       "    <tr>\n",
       "      <th>audi</th>\n",
       "      <td>0.852684</td>\n",
       "      <td>0.785546</td>\n",
       "      <td>0.791467</td>\n",
       "      <td>2.310800</td>\n",
       "      <td>0.000000</td>\n",
       "      <td>0.659320</td>\n",
       "      <td>1.547600</td>\n",
       "      <td>6.550800</td>\n",
       "      <td>1.286133</td>\n",
       "      <td>0.391022</td>\n",
       "    </tr>\n",
       "    <tr>\n",
       "      <th>infiniti</th>\n",
       "      <td>0.739346</td>\n",
       "      <td>0.490093</td>\n",
       "      <td>0.454330</td>\n",
       "      <td>1.849036</td>\n",
       "      <td>0.659320</td>\n",
       "      <td>0.000000</td>\n",
       "      <td>0.592252</td>\n",
       "      <td>6.406600</td>\n",
       "      <td>1.132040</td>\n",
       "      <td>0.860433</td>\n",
       "    </tr>\n",
       "    <tr>\n",
       "      <th>nissan</th>\n",
       "      <td>2.525070</td>\n",
       "      <td>1.251038</td>\n",
       "      <td>1.839600</td>\n",
       "      <td>0.434018</td>\n",
       "      <td>1.547600</td>\n",
       "      <td>0.592252</td>\n",
       "      <td>0.000000</td>\n",
       "      <td>0.347031</td>\n",
       "      <td>1.328600</td>\n",
       "      <td>2.423600</td>\n",
       "    </tr>\n",
       "    <tr>\n",
       "      <th>toyota</th>\n",
       "      <td>1.696557</td>\n",
       "      <td>1.882840</td>\n",
       "      <td>0.432600</td>\n",
       "      <td>0.344816</td>\n",
       "      <td>6.550800</td>\n",
       "      <td>6.406600</td>\n",
       "      <td>0.347031</td>\n",
       "      <td>0.000000</td>\n",
       "      <td>2.499467</td>\n",
       "      <td>2.279733</td>\n",
       "    </tr>\n",
       "    <tr>\n",
       "      <th>subaru</th>\n",
       "      <td>1.554415</td>\n",
       "      <td>1.663480</td>\n",
       "      <td>1.358933</td>\n",
       "      <td>1.700400</td>\n",
       "      <td>1.286133</td>\n",
       "      <td>1.132040</td>\n",
       "      <td>1.328600</td>\n",
       "      <td>2.499467</td>\n",
       "      <td>0.000000</td>\n",
       "      <td>2.531646</td>\n",
       "    </tr>\n",
       "    <tr>\n",
       "      <th>mercedes</th>\n",
       "      <td>0.814460</td>\n",
       "      <td>1.896550</td>\n",
       "      <td>0.587116</td>\n",
       "      <td>2.171280</td>\n",
       "      <td>0.391022</td>\n",
       "      <td>0.860433</td>\n",
       "      <td>2.423600</td>\n",
       "      <td>2.279733</td>\n",
       "      <td>2.531646</td>\n",
       "      <td>0.000000</td>\n",
       "    </tr>\n",
       "  </tbody>\n",
       "</table>\n",
       "</div>"
      ],
      "text/plain": [
       "Brand          bmw     acura     lexus     honda      audi  infiniti  \\\n",
       "Brand                                                                  \n",
       "bmw       0.000000  1.133163  0.815596  1.984374  0.852684  0.739346   \n",
       "acura     1.133163  0.000000  0.558371  0.609955  0.785546  0.490093   \n",
       "lexus     0.815596  0.558371  0.000000  1.831200  0.791467  0.454330   \n",
       "honda     1.984374  0.609955  1.831200  0.000000  2.310800  1.849036   \n",
       "audi      0.852684  0.785546  0.791467  2.310800  0.000000  0.659320   \n",
       "infiniti  0.739346  0.490093  0.454330  1.849036  0.659320  0.000000   \n",
       "nissan    2.525070  1.251038  1.839600  0.434018  1.547600  0.592252   \n",
       "toyota    1.696557  1.882840  0.432600  0.344816  6.550800  6.406600   \n",
       "subaru    1.554415  1.663480  1.358933  1.700400  1.286133  1.132040   \n",
       "mercedes  0.814460  1.896550  0.587116  2.171280  0.391022  0.860433   \n",
       "\n",
       "Brand       nissan    toyota    subaru  mercedes  \n",
       "Brand                                             \n",
       "bmw       2.525070  1.696557  1.554415  0.814460  \n",
       "acura     1.251038  1.882840  1.663480  1.896550  \n",
       "lexus     1.839600  0.432600  1.358933  0.587116  \n",
       "honda     0.434018  0.344816  1.700400  2.171280  \n",
       "audi      1.547600  6.550800  1.286133  0.391022  \n",
       "infiniti  0.592252  6.406600  1.132040  0.860433  \n",
       "nissan    0.000000  0.347031  1.328600  2.423600  \n",
       "toyota    0.347031  0.000000  2.499467  2.279733  \n",
       "subaru    1.328600  2.499467  0.000000  2.531646  \n",
       "mercedes  2.423600  2.279733  2.531646  0.000000  "
      ]
     },
     "execution_count": 22,
     "metadata": {},
     "output_type": "execute_result"
    }
   ],
   "source": [
    "#distance_matrix = brand_lifts.replace(\"\", np.nan).astype(float)\n",
    "distance_matrix = 1 / lift_df\n",
    "np.fill_diagonal(distance_matrix.values, 0)\n",
    "distance_matrix = distance_matrix.combine_first(distance_matrix.T)\n",
    "distance_matrix"
   ]
  },
  {
   "cell_type": "code",
   "execution_count": 23,
   "metadata": {},
   "outputs": [
    {
     "name": "stdout",
     "output_type": "stream",
     "text": [
      "[[-0.24211741  0.7550766 ]\n",
      " [ 0.07413702 -0.07747095]\n",
      " [-0.25120494  0.25494336]\n",
      " [-0.37541472 -1.09783124]\n",
      " [ 0.52141177  1.32952857]\n",
      " [ 0.63814777  0.84550565]\n",
      " [ 0.07505646 -1.05220263]\n",
      " [-1.13428954 -1.88615782]\n",
      " [ 1.17807677 -0.21597044]\n",
      " [-0.48380317  1.1445789 ]]\n"
     ]
    },
    {
     "name": "stderr",
     "output_type": "stream",
     "text": [
      "/Users/sam/.pyenv/versions/3.10.6/envs/lewagon/lib/python3.10/site-packages/sklearn/manifold/_mds.py:299: FutureWarning: The default value of `normalized_stress` will change to `'auto'` in version 1.4. To suppress this warning, manually set the value of `normalized_stress`.\n",
      "  warnings.warn(\n"
     ]
    }
   ],
   "source": [
    "# fit_transform to MDS\n",
    "from sklearn.manifold import MDS\n",
    "mds = MDS(n_components=2, dissimilarity='precomputed',random_state=0)\n",
    "\n",
    "dissimilarity_matrix =distance_matrix.to_numpy(dtype=float)\n",
    "X_transform = mds.fit_transform(dissimilarity_matrix)\n",
    "\n",
    "print(X_transform)"
   ]
  },
  {
   "cell_type": "code",
   "execution_count": 24,
   "metadata": {},
   "outputs": [
    {
     "data": {
      "text/plain": [
       "<Figure size 640x480 with 0 Axes>"
      ]
     },
     "metadata": {},
     "output_type": "display_data"
    },
    {
     "data": {
      "image/png": "[encoded data removed]",
      "text/plain": [
       "<Figure size 2000x500 with 1 Axes>"
      ]
     },
     "metadata": {},
     "output_type": "display_data"
    }
   ],
   "source": [
    "fig = plt.figure()\n",
    "fig = plt.figure(figsize=(20, 5))\n",
    "ax = fig.add_subplot(122)\n",
    "t=top_10.set_index('Brand')\n",
    "brands = t.index.tolist()\n",
    "plt.scatter(X_transform[:,0], X_transform[:,1], c=['b'])\n",
    "for i, txt in enumerate(brands):\n",
    "    ax.annotate(txt, (X_transform[:,0][i], X_transform[:,1][i]))\n",
    "plt.xlabel('MDS Dimension 1')\n",
    "plt.ylabel('MDS Dimension 2')\n",
    "plt.title('MDS Plot')\n",
    "fig.subplots_adjust(wspace=.2, hspace=0.5)"
   ]
  },
  {
   "cell_type": "markdown",
   "metadata": {},
   "source": [
    "### Task E: Insights from Tasks C and D"
   ]
  },
  {
   "cell_type": "markdown",
   "metadata": {},
   "source": [
    "#### Key Findings"
   ]
  },
  {
   "cell_type": "markdown",
   "metadata": {},
   "source": [
    "**Competitive Landscape:** Based on the lift values, we can see that Honda, Toyota, and Nissan exhibit strong associations with each other, as indicated by lift values exceeding 2.3. In addition, Acura, Infiniti and Lexus are the luxury versions of Honda, Nissan and Toyota respectively, they all have lifts higher than 1.70. This suggests an overlap in their customer bases, highlighting the need for these brands to continually differentiate themselves to maintain market share.\n",
    "\n",
    "**Consumer Preferences:** Audi and Mercedes share a lift value of approximately 2.5. This might suggest that customers perceive Audi vehicles as offering luxury and performance similar to Mercedes. Understanding these consumer preferences can guide product development and marketing strategies.\n",
    "\n",
    "**Market Segmentation:** By considering these brand associations, we can identify distinct customer segments. Some consumers gravitate towards luxury brands like Audi and Mercedes, while others prefer more affordable options like Honda and Toyota. Recognizing these segments allows for targeted marketing efforts and tailored product offerings."
   ]
  },
  {
   "cell_type": "markdown",
   "metadata": {},
   "source": [
    "####  Business Suggestions"
   ]
  },
  {
   "cell_type": "markdown",
   "metadata": {},
   "source": [
    "**Product Development:** Based on consumer preferences, we recommend that clients focus on enhancing the attributes associated with their brand. For example, if Lexus shares a strong luxury association with Mercedes, clients should prioritize the development of luxury features and performance in Lexus models to meet customer expectations.\n",
    "\n",
    "**Marketing Strategies:** Brands can run targeted advertising campaigns that leverage the lift values to reach potential customers interested in similar products. For example, if Audi and Mercedes have a high lift value, they can create online ad campaigns that specifically target users who have shown interest in Mercedes vehicles. This strategy allows brands to tap into the existing customer base of their associated competitors without direct collaboration.\n",
    "\n",
    "**Competitive Benchmarking:** Encourage clients to benchmark themselves against brands with similar associations. This benchmarking can reveal competitive strengths and weaknesses, aiding in pricing strategies, feature development, and market positioning.\n",
    "\n",
    "**Customer Recommendations:** Utilize the lift values and consumer preferences to provide tailored recommendations to potential car buyers. For instance, customers associating Honda with Toyota may also prioritize a certain attribute shared by these brands. J.D. Power can recommend models with those attributes from both brands to cater to these specific customer preferences."
   ]
  },
  {
   "cell_type": "markdown",
   "metadata": {},
   "source": [
    "### Task F: Attributes Analysis\n",
    "\n",
    "- Choose best 5 Attributes with the high Frequency counts\n",
    "- Measure the association with top 5 brands (bmw, acura, audi, lexus, honda)"
   ]
  },
  {
   "cell_type": "markdown",
   "metadata": {},
   "source": [
    "#### Identification of Top 5 Attributes\n",
    "\n",
    "**The following are the attributes with the five highest frequency count:**\n",
    "\n",
    "('performance', 658),\n",
    "('price', 524),\n",
    "('luxury', 522),\n",
    "('engine', 437),\n",
    "('interior', 379)"
   ]
  },
  {
   "cell_type": "code",
   "execution_count": 384,
   "metadata": {},
   "outputs": [],
   "source": [
    "#creating list of all the words with their frequency\n",
    "attribute_list=[]\n",
    "def get_attribute(token_list):\n",
    "    for i in token_list:\n",
    "        attribute_list.append(i.lower())\n",
    "\n",
    "comments['without_sw'].map(get_attribute)\n",
    "\n",
    "#word frequency\n",
    "attribute_counts=pd.Series(attribute_list).value_counts()\n",
    "#exporting the word frequency to csv\n",
    "pd.Series(attribute_list).value_counts().to_csv('attribute.csv')"
   ]
  },
  {
   "cell_type": "code",
   "execution_count": 380,
   "metadata": {},
   "outputs": [
    {
     "name": "stdout",
     "output_type": "stream",
     "text": [
      "The brand 'acura' and the attribute 'engine' co-occurred 51 times.\n",
      "The brand 'acura' and the attribute 'price' co-occurred 46 times.\n",
      "The brand 'lexus' and the attribute 'engine' co-occurred 44 times.\n",
      "The brand 'lexus' and the attribute 'price' co-occurred 44 times.\n",
      "The brand 'lexus' and the attribute 'interior' co-occurred 40 times.\n",
      "The brand 'audi' and the attribute 'performance' co-occurred 41 times.\n",
      "The brand 'audi' and the attribute 'engine' co-occurred 47 times.\n",
      "The brand 'honda' and the attribute 'price' co-occurred 29 times.\n",
      "The brand 'bmw' and the attribute 'performance' co-occurred 194 times.\n",
      "The brand 'bmw' and the attribute 'engine' co-occurred 149 times.\n",
      "The brand 'bmw' and the attribute 'luxury' co-occurred 124 times.\n",
      "The brand 'bmw' and the attribute 'interior' co-occurred 90 times.\n",
      "The brand 'audi' and the attribute 'luxury' co-occurred 38 times.\n",
      "The brand 'audi' and the attribute 'interior' co-occurred 45 times.\n",
      "The brand 'bmw' and the attribute 'price' co-occurred 176 times.\n",
      "The brand 'acura' and the attribute 'performance' co-occurred 63 times.\n",
      "The brand 'acura' and the attribute 'luxury' co-occurred 68 times.\n",
      "The brand 'lexus' and the attribute 'performance' co-occurred 40 times.\n",
      "The brand 'lexus' and the attribute 'luxury' co-occurred 57 times.\n",
      "The brand 'audi' and the attribute 'price' co-occurred 45 times.\n",
      "The brand 'acura' and the attribute 'interior' co-occurred 36 times.\n",
      "The brand 'honda' and the attribute 'performance' co-occurred 24 times.\n",
      "The brand 'honda' and the attribute 'luxury' co-occurred 30 times.\n",
      "The brand 'honda' and the attribute 'engine' co-occurred 29 times.\n",
      "The brand 'honda' and the attribute 'interior' co-occurred 13 times.\n"
     ]
    }
   ],
   "source": [
    "from collections import defaultdict\n",
    "\n",
    "top_5_brands=list(top_10[:5]['Brand'])\n",
    "attributes=['performance','luxury','engine','price','interior']\n",
    "\n",
    "co_occurrences = defaultdict(int)\n",
    "max_distance = 50\n",
    "\n",
    "for index, row in comments.iterrows():\n",
    "    message = row['message'].lower() \n",
    "    words = message.split()  \n",
    "\n",
    "    for brand in top_5_brands:\n",
    "        for attribute in attributes:\n",
    "            brand_indices = [i for i, word in enumerate(words) if brand in word]\n",
    "            attribute_indices = [i for i, word in enumerate(words) if attribute in word]\n",
    "\n",
    "            if any(abs(b - a) <= max_distance for b in brand_indices for a in attribute_indices):\n",
    "                co_occurrences[(brand, attribute)] += 1\n",
    "\n",
    "for (brand, attribute), count in co_occurrences.items():\n",
    "    print(f\"The brand '{brand}' and the attribute '{attribute}' co-occurred {count} times.\")"
   ]
  },
  {
   "cell_type": "markdown",
   "metadata": {},
   "source": [
    "#### Brand-Attribute Association"
   ]
  },
  {
   "cell_type": "code",
   "execution_count": 381,
   "metadata": {},
   "outputs": [
    {
     "name": "stdout",
     "output_type": "stream",
     "text": [
      "      performance  luxury  engine  price  interior\n",
      "bmw      1.2785    1.0301  1.4786  1.9081  1.0298 \n",
      "acura    1.0475    1.4253  1.2769  1.2582  1.0392 \n",
      "lexus    0.9046    1.6249  1.4983  1.6369  1.5705 \n",
      "honda    0.5577    0.8788  1.0147  1.1086  0.5245 \n",
      "audi     0.9797    1.1446  1.6911  1.7689  1.8669 \n"
     ]
    }
   ],
   "source": [
    "attribute_series = pd.Series(attribute_list)\n",
    "\n",
    "attribute_counts = attribute_series.value_counts()\n",
    "\n",
    "attribute_frequencies_df = pd.DataFrame({'Attribute': attribute_counts.index, 'Count': attribute_counts.values})\n",
    "\n",
    "attributes=['performance','luxury','engine','price','interior']\n",
    "\n",
    "attribute_frequencies_df = attribute_frequencies_df[attribute_frequencies_df['Attribute'].isin(attributes)]\n",
    "\n",
    "top_5_brands = top_10['Brand'][:5].tolist()\n",
    "brand_counts = top_10.set_index('Brand')['Count'].to_dict()\n",
    "\n",
    "attribute_counts = attribute_frequencies_df.set_index('Attribute')['Count'].to_dict()\n",
    "\n",
    "total_messages = len(comments)\n",
    "\n",
    "lift_values_df = pd.DataFrame(index=top_5_brands, columns=attributes)\n",
    "\n",
    "for (brand, attribute), co_occur_count in co_occurrences.items():\n",
    "    lift_value = (co_occur_count * total_messages) / (brand_counts[brand] * attribute_counts[attribute])\n",
    "    lift_values_df.loc[brand, attribute] = lift_value\n",
    "\n",
    "print(lift_values_df)"
   ]
  },
  {
   "cell_type": "markdown",
   "metadata": {},
   "source": [
    "#### Which attributes are most strongly associated with top 5 brands? (bmw, acura, audi, lexus, honda)\n",
    "\n",
    "According to the lift values, the following attributes are highly associated with each of the brands:\n",
    "- **Performance**: BMW (Lift = 1.28)\n",
    "- **Luxury**: Lexus (Lift = 1.62)\n",
    "- **Engine**: Audi (Lift = 1.69)\n",
    "- **Price**: BMW (Lift = 1.91)\n",
    "- **Interior**: Audi (Lift = 1.87)"
   ]
  },
  {
   "cell_type": "markdown",
   "metadata": {},
   "source": [
    "### Task G: Advice Based on Task F"
   ]
  },
  {
   "cell_type": "markdown",
   "metadata": {},
   "source": [
    "- Audi can be used as benchmarks for interior and engine attributes, while BMW can be used as benchmark for price, and Lexus can be used as a benchmark for Luxury, since they have higher associated lift values. In addition, brands can use this information to identify unique selling points (USPs) that set them apart from competitors. For example, since Audi has a relatively higher lift value for \"interior\" and \"engine\", it can use this as a strong selling point in its marketing.\n",
    "\n",
    "\n",
    "- In order to improve the quality of their products, brands can focus on the attributes that have the lowest lift values. For example, Honda's performance attribute has the lowest lift which suggests that most people don't associate Honda with performance. As we observed earlier, people associate Honda with it's luxury version Acura (Lift 1.64) as a result, Honda can use Acura's performance as a benchmark and make improvements to their future models' accordingly.\n",
    "\n",
    "\n",
    "- Over time, brands can track changes in these lift values to gauge shifts in customer perceptions. This can help them adapt their strategies to align with evolving consumer preferences."
   ]
  },
  {
   "cell_type": "markdown",
   "metadata": {},
   "source": [
    "### Task H: Aspirational Brand Analysis\n",
    "#### Which is the most aspirational brand in your data in terms of people actually wanting to buy or own?\n",
    "- Provide all details of your analysis – e.g., how you measured “aspirational” and how you found the most aspirational brand.\n",
    "- What are the business implications for this brand?"
   ]
  },
  {
   "cell_type": "markdown",
   "metadata": {},
   "source": [
    "#### Approach\n",
    "To determine the most aspirational brand within our dataset, we followed a structured methodology that considered various factors related to brand desirability. Our approach can be broken down into several key steps:\n",
    "\n",
    " **1. Defining Aspirational Phrases:** \n",
    " We employed ChatGPT to generate common expressions aligning with the aspirational sentiments of potential luxury-entry car buyers. We provided ChatGPT with 30 words from our original comment dataset, aiming to capture characteristics and sentiments typically associated with aspirational brands. This list served as the foundation for creating aspirational phrases. We also generated various verb tenses of these phrases to match them with the comments dataset as much as possible. Below is the list of the 30 words from the original dataset that we used for this purpose:\n",
    "\n",
    " ('like', 1711), ('get', 1266), ('think', 1170), ('best', 470), ('want', 644), ('buy', 501), ('great', 465), ('love', 250), ('regards', 225), ('buying', 175), ('worth', 161), ('choice', 148), ('especially', 146), ('consider', 121), ('wanted', 118), ('hope', 112), ('prefer', 107), ('thinking', 92), ('excellent', 85), ('decision', 79), ('soon', 77), ('fit', 74), ('liked', 73), ('purchase', 65), ('regardless', 61), ('cool', 61), ('advantage', 60), ('imagine', 50), ('wow', 48), ('prestige', 48).\n",
    "\n",
    " **2. Replacing Aspirational Phrases within the Comment Dataset with 'Aspirations':** \n",
    " We systematically checked each comment for the presence of the defined aspirational phrases. If any were found, we replaced the aspirational phrase with the word 'aspirations' and updated the frequency count for that phrase. Below, we've presented the frequency of each aspirational phrase that was replaced with 'aspirations.'\n",
    "\n",
    " **3. Calculating Co-Occurrences of Brands and 'Aspirations':** \n",
    " The top 5 brands were selected based on their highest frequency. Our rule considers two words (brands and 'aspirations') to co-occur if they appear within a maximum of 7 words of each other in a comment. By counting how often each brand appears near the word 'aspirations' within this rule, we generated a table that reveals the frequency of co-occurrences between each brand and 'aspirations.'"
   ]
  },
  {
   "cell_type": "code",
   "execution_count": 329,
   "metadata": {},
   "outputs": [
    {
     "name": "stdout",
     "output_type": "stream",
     "text": [
      "'thinking about': 17 times\n",
      "'consider': 308 times\n",
      "'plan on': 10 times\n",
      "'looking to purchase': 1 times\n",
      "'dream of': 3 times\n",
      "'ponder': 3 times\n",
      "'hope to': 9 times\n",
      "'think about': 30 times\n",
      "'great choice': 6 times\n",
      "'would love to': 10 times\n",
      "'desire to': 8 times\n",
      "'wanting to buy': 2 times\n",
      "'contemplating': 2 times\n",
      "'hoping to': 6 times\n",
      "'want to buy': 13 times\n",
      "'long for': 7 times\n",
      "'eager to': 2 times\n",
      "'love to own': 2 times\n",
      "'worth buying': 2 times\n",
      "'considering': 6 times\n",
      "'seriously consider': 8 times\n",
      "'longing for': 1 times\n",
      "'would have loved to': 1 times\n",
      "'excellent choice': 1 times\n",
      "'planning on': 6 times\n",
      "'aspire to': 8 times\n",
      "'highly regard': 1 times\n",
      "'wanted to buy': 2 times\n",
      "'best choice': 4 times\n",
      "'planned on': 1 times\n",
      "'longed for': 1 times\n",
      "'better choice': 8 times\n",
      "'would love': 4 times\n",
      "'wish to': 8 times\n",
      "'consider getting': 1 times\n",
      "'thought about': 2 times\n",
      "'dream car': 3 times\n",
      "'yearned for': 1 times\n",
      "'dwell on': 3 times\n",
      "'desired to': 1 times\n",
      "'wished to': 1 times\n",
      "'plan to buy': 1 times\n"
     ]
    }
   ],
   "source": [
    "import pandas as pd\n",
    "from nltk.tokenize import word_tokenize\n",
    "from collections import Counter\n",
    "\n",
    "# Assuming you have a DataFrame 'df' with a column named 'comments' containing your comments\n",
    "# You can extract the comments as a list\n",
    "Messages = comments['message'].tolist()\n",
    "\n",
    "# define the aspiraitonal phrases\n",
    "aspirational_phrases = [\n",
    "    \"consider purchase\", \"considered purchase\", \"considering purchase\",\n",
    "    \"think about\", \"thought about\", \"thinking about\",\n",
    "    \"want to buy\", \"wanted to buy\", \"wanting to buy\",\n",
    "    \"best choice\", \"better choice\", \"best choices\", \"great choice\", \"greater choice\", \"great choices\",\n",
    "    \"love to own\", \"loved to own\", \"loving to own\",\n",
    "    \"seriously consider\", \"seriously considered\", \"seriously considering\",\n",
    "    \"look to purchase\", \"looked to purchase\", \"looking to purchase\",\n",
    "    \"plan to buy\", \"planned to buy\", \"planning to buy\",\n",
    "    \"highly regard\", \"highly regarded\", \"highly regarding\",\n",
    "    \"dream car\", \"dreamed of a car\", \"dreaming of a car\",\n",
    "    \"worth buying\", \"worth bought\", \"worth buying\",\n",
    "    \"hope to buy\", \"hoped to buy\", \"hoping to buy\",\n",
    "    \"prefer option\", \"preferred option\", \"preferring option\",\n",
    "    \"excellent choice\", \"excelled in choice\", \"excelling in choice\", \"excellent choices\",\n",
    "    \"buy soon\", \"bought soon\", \"buying soon\",\n",
    "    \"fit my lifestyle\", \"fitting my lifestyle\", \"fitted my lifestyle\",\n",
    "    \"love the experience\", \"loved the experience\", \"loving the experience\",\n",
    "    \"prestige vehicle\", \"prestigious vehicle\", \"prestige vehicles\", \"prestigious vehicles\",\n",
    "    \"ready to purchase\", \"readied to purchase\", \"readying to purchase\",\n",
    "    \"would love to\", \"would have loved to\", \"would love to\", \"would love\",\n",
    "    \"wish to\", \"wished to\", \"wishing to\",\n",
    "    \"desire to\", \"desired to\", \"desiring to\",\n",
    "    \"dream of\", \"dreamed of\", \"dreaming of\",\n",
    "    \"long for\", \"longed for\", \"longing for\",\n",
    "    \"hope to\", \"hoped to\", \"hoping to\",\n",
    "    \"plan on\", \"planned on\", \"planning on\",\n",
    "    \"eager to\", \"eagered to\", \"eagering to\",\n",
    "    \"consider getting\", \"considered getting\", \"considering getting\",\n",
    "    \"aspire to\", \"aspired to\", \"aspiring to\", \"dreaming of owning\", \"dreamed of owning\", \"dreams of owning\",\n",
    "    \"fantasize about\", \"fantasized about\", \"fantasizes about\",\n",
    "    \"dreaming about\", \"dreamed about\", \"dreams about\",\n",
    "    \"aim to purchase\", \"aimed to purchase\", \"aims to purchase\",\n",
    "    \"craving to buy\", \"craved to buy\", \"craves to buy\",\n",
    "    \"envision owning\", \"envisioned owning\", \"envisions owning\",\n",
    "    \"fantasizing about\", \"fantasized about\", \"fantasizes about\",\n",
    "    \"hoping to own\", \"hoped to own\", \"hopes to own\",\n",
    "    \"longing to buy\", \"longed to buy\", \"longs to buy\",\n",
    "    \"strive to own\", \"strived to own\", \"strives to own\",\n",
    "    \"yearning for\", \"yearned for\", \"yearns for\",\n",
    "    \"wish to acquire\", \"wished to acquire\", \"wishes to acquire\",\n",
    "    \"yearn to drive\", \"yearned to drive\", \"yearns to drive\",\n",
    "    \"crave to own\", \"craved to own\", \"craves to own\",\n",
    "    \"aspiration to purchase\", \"aspired to purchase\", \"aspires to purchase\",\n",
    "    \"aspiring to own\", \"aspired to own\", \"aspires to own\",\n",
    "    \"covet to buy\", \"coveted to buy\", \"covets to buy\",\n",
    "    \"desire to possess\", \"desired to possess\", \"desires to possess\",\n",
    "    \"wishful thinking about\", \"wishful thinking about\", \"wishful thinking about\",\n",
    "    \"goal to acquire\", \"goal to acquire\", \"goal to acquire\",\n",
    "    \"wish to possess\", \"wished to possess\", \"wishes to possess\",\n",
    "    \"anticipate owning\", \"anticipated owning\", \"anticipates owning\",\n",
    "    \"fantasizing of owning\", \"fantasized of owning\", \"fantasizes of owning\",\n",
    "    \"hoping to own\", \"hoped to own\", \"hopes to own\",\n",
    "    \"aim to possess\", \"aimed to possess\", \"aims to possess\",\n",
    "    \"strive to possess\", \"strived to possess\", \"strives to possess\",\n",
    "    \"craving to possess\", \"craved to possess\", \"craves to possess\",\n",
    "    \"envision owning\", \"envisioned owning\", \"envisions owning\",\n",
    "    \"covet to drive\", \"coveted to drive\", \"covets to drive\",\n",
    "    \"desire to own\", \"desired to own\", \"desires to own\",\n",
    "    \"wishful thinking of\", \"wishful thinking of\", \"wishful thinking of\",\n",
    "    \"goal to\", \"goal to\", \"goal to\", \"consider\", \"considered\", \"considering\",\n",
    "    \"contemplate\", \"contemplated\", \"contemplating\",\n",
    "    \"ponder\", \"pondered\", \"pondering\",\n",
    "    \"mull over\", \"mulled over\", \"mulling over\",\n",
    "    \"reflect on\", \"reflected on\", \"reflecting on\",\n",
    "    \"ruminate on\", \"ruminated on\", \"ruminating on\",\n",
    "    \"meditate on\", \"meditated on\", \"meditating on\",\n",
    "    \"deliberate on\", \"deliberated on\", \"deliberating on\",\n",
    "    \"dwell on\", \"dwelled on\", \"dwelling on\",\n",
    "    \"consider the idea of\", \"considered the idea of\", \"considering the idea of\",\n",
    "    \"contemplate the possibility of\", \"contemplated the possibility of\", \"contemplating the possibility of\",\n",
    "    \"ponder the thought of\", \"pondered the thought of\", \"pondering the thought of\",\n",
    "    \"mull over the notion of\", \"mulled over the notion of\", \"mulling over the notion of\",\n",
    "    \"reflect on the concept of\", \"reflected on the concept of\", \"reflecting on the concept of\",\n",
    "    \"ruminate on the idea of\", \"ruminated on the idea of\", \"ruminating on the idea of\",\n",
    "    \"meditate on the prospect of\", \"meditated on the prospect of\", \"meditating on the prospect of\",\n",
    "    \"deliberate on the decision to\", \"deliberated on the decision to\", \"deliberating on the decision to\",\n",
    "    \"dwell on the thought of\", \"dwelled on the thought of\", \"dwelling on the thought of\"\n",
    "]\n",
    "\n",
    "# Initialize a Counter to keep track of the total frequency of aspirational phrases\n",
    "total_aspirational_freq = Counter()\n",
    "\n",
    "# Iterate over comments\n",
    "for i in range(len(Messages)):\n",
    "    Message = Messages[i]\n",
    "    \n",
    "    # Tokenize the comment into words\n",
    "    words = word_tokenize(Message.lower())\n",
    "    \n",
    "    # Iterate over aspirational phrases and replace them with 'aspirations'\n",
    "    for phrase in aspirational_phrases:\n",
    "        if phrase in Message.lower():\n",
    "            Message = Message.replace(phrase, 'aspirations')\n",
    "            \n",
    "            # Update the frequency count for the replaced phrase\n",
    "            total_aspirational_freq[phrase] += 1\n",
    "    \n",
    "    # Update the comment with replaced phrases\n",
    "    Messages[i] = Message\n",
    "\n",
    "# Create a DataFrame to store the updated comments\n",
    "comments['Messages'] = Messages\n",
    "\n",
    "# Display the frequency of each aspirational phrase (which all converted to 'aspirations')\n",
    "for phrase, frequency in total_aspirational_freq.items():\n",
    "    print(f\"'{phrase}': {frequency} times\")\n",
    "\n",
    "# Save the updated DataFrame to a new CSV file if needed\n",
    "df.to_csv('updated_comments.csv', index=False)"
   ]
  },
  {
   "cell_type": "code",
   "execution_count": 383,
   "metadata": {},
   "outputs": [
    {
     "name": "stdout",
     "output_type": "stream",
     "text": [
      "  Brand-Aspirations Pair  Frequency\n",
      "0    (bmw, aspirations)      145   \n",
      "1  (acura, aspirations)       35   \n",
      "4  (lexus, aspirations)       25   \n",
      "2   (audi, aspirations)       15   \n",
      "3  (honda, aspirations)        5   \n"
     ]
    }
   ],
   "source": [
    "import pandas as pd\n",
    "from nltk.tokenize import word_tokenize\n",
    "from collections import Counter\n",
    "\n",
    "# Assuming you have a DataFrame 'df' with a column named 'comments' containing your comments\n",
    "# You can extract the comments as a list\n",
    "Messages = comments['Messages'].tolist()\n",
    "\n",
    "# Define the list of brands and the brand you're interested in (e.g., 'bmw')\n",
    "brands = ['bmw', 'acura', 'audi', 'lexus', 'honda']\n",
    "\n",
    "# Define the proximity limit\n",
    "proximity_limit = 7\n",
    "\n",
    "# Initialize a Counter to keep track of the frequency of co-occurrences\n",
    "co_occurrence_freq = Counter()\n",
    "\n",
    "# Process comments\n",
    "for brand_of_interest in brands:\n",
    "    for message in Messages:\n",
    "        # Tokenize the comment into words\n",
    "        words = word_tokenize(message.lower())\n",
    "\n",
    "        # Find the positions of the brand mentions\n",
    "        brand_positions = {brand: [i for i, word in enumerate(words) if word == brand] for brand in brands}\n",
    "\n",
    "        # Find the positions of 'aspirations'\n",
    "        aspirations_positions = [i for i, word in enumerate(words) if word == 'aspirations']\n",
    "\n",
    "        # Check co-occurrence within proximity\n",
    "        for brand, positions in brand_positions.items():\n",
    "            for bp in positions:\n",
    "                for ap in aspirations_positions:\n",
    "                    distance = abs(bp - ap)\n",
    "                    if distance <= proximity_limit:\n",
    "                        co_occurrence_freq[(brand, 'aspirations')] += 1\n",
    "\n",
    "# Create a DataFrame from the Counter\n",
    "co_occurrence_df = pd.DataFrame.from_dict(co_occurrence_freq, orient='index', columns=['Frequency']).reset_index()\n",
    "co_occurrence_df.rename(columns={'index': 'Brand-Aspirations Pair'}, inplace=True)\n",
    "\n",
    "# Print the DataFrame\n",
    "print(co_occurrence_df.sort_values(by='Frequency',ascending=False))"
   ]
  },
  {
   "cell_type": "markdown",
   "metadata": {},
   "source": [
    "#### Findings:\n",
    "\n",
    "Among the selected brands, 'BMW' emerges as the most aspirational brand with the highest frequency of co-occurrences with the word 'aspirations.' The high co-occurrence frequency of 'BMW' and 'aspirations' implies that BMW possesses a strong aspirational appeal among consumers. This appeal could be attributed to its brand image, features, or reputation in the entry level luxury sedan market."
   ]
  },
  {
   "cell_type": "markdown",
   "metadata": {},
   "source": [
    "#### Business Implications:\n",
    "For BMW\n",
    "\n",
    " - BMW's slogan is \"The Ultimate Driving Machine\" which suggests that the makers of BMW believe that it has the finest performance and our analysis implies that in relative terms, BMW has the highest performance lift compared to the other most popular brands. However, since the lift value is very close to 1, people may have a neutral stance when it comes to associating BMW with performance. Given that it is a competitive landscape, BMW must proactively reinforce its position as a car with top of the line performance. Since performance is mostly associated with engine, BMW could use Audi as a benchmark for Audi shares the highest lift with 'engine' (lift value of 1.69). \n",
    "\n",
    "\n",
    " - BMW, being the most aspirational brand in our analysis, can focus their marketing efforts on reaching aspirational buyers who value performance, luxury, and status. Collaborating with high-end lifestyle brands, sponsoring exclusive events or even endorsing talented celebrities who are known for being the best in their space can further reinforce its brand image. By strategically aligning with the top attributes, BMW can continue to attract and retain a loyal customer base while expanding its market reach.\n",
    "\n",
    "\n",
    " - We have also seen how price is an attribute that is strongly considered by people, it would be important for BMW to reinforce its high lift value for price (1.91) and focus on its pricing strategies. Consumers often associate aspirational brands with higher quality and prestige, allowing BMW to command premium prices for its vehicles. However, it's essential to strike a balance, ensuring that the pricing aligns with the perceived value. Businesses can use this aspirational status to justify premium pricing, but they should also consider offering a range of models and pricing options to cater to a broader customer base who want luxury at a more affordable price.\n",
    "\n",
    "\n",
    " - BMW can also focus on attributes that aren't strongly associated with them such as luxury, interior and engine (lowest lifts). By diving further into the key feautures that define these attributes, BMW can get a strong insight of what customers believe they lack in and make improvements accordingly. They can compare their attributes with the lowest lifts with the brands that have the highest ones and use those brands as benchmarks to make improvements to their products."
   ]
  }
 ],
 "metadata": {
  "kernelspec": {
   "display_name": "Python 3 (ipykernel)",
   "language": "python",
   "name": "python3"
  },
  "language_info": {
   "codemirror_mode": {
    "name": "ipython",
    "version": 3
   },
   "file_extension": ".py",
   "mimetype": "text/x-python",
   "name": "python",
   "nbconvert_exporter": "python",
   "pygments_lexer": "ipython3",
   "version": "3.10.6"
  }
 },
 "nbformat": 4,
 "nbformat_minor": 2
}
